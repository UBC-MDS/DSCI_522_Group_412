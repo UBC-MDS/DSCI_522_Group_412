{
 "cells": [
  {
   "cell_type": "code",
   "execution_count": 1,
   "metadata": {},
   "outputs": [],
   "source": [
    "# import packages\n",
    "import pandas as pd\n",
    "import numpy as np\n",
    "from sklearn.model_selection import train_test_split\n",
    "from pandas_profiling import ProfileReport"
   ]
  },
  {
   "cell_type": "code",
   "execution_count": 2,
   "metadata": {},
   "outputs": [],
   "source": [
    "# load csv\n",
    "df = pd.read_csv('../data/raw.csv')"
   ]
  },
  {
   "cell_type": "code",
   "execution_count": 3,
   "metadata": {},
   "outputs": [],
   "source": [
    "# drop unecessary index column\n",
    "df = df.drop(df.columns[0], 1)\n",
    "\n",
    "# Add column names\n",
    "new_col_names = ['Sex',\n",
    "                 'Age',\n",
    "                 'Debt',\n",
    "                 'Married',\n",
    "                 'BankCustomer',\n",
    "                 'EducationLevel',\n",
    "                 'Ethnicity',\n",
    "                 'YearsEmployed',\n",
    "                 'PriorDefault',\n",
    "                 'Employed',\n",
    "                 'CreditScore',\n",
    "                 'DriversLicense',\n",
    "                 'Citizen',\n",
    "                 'ZipCode',\n",
    "                 'Income',\n",
    "                 'Approved'\n",
    "                ]\n",
    "\n",
    "df.columns = new_col_names"
   ]
  },
  {
   "cell_type": "code",
   "execution_count": 7,
   "metadata": {},
   "outputs": [],
   "source": [
    "# split test and train data\n",
    "X = df.drop(['Approved'], 1)\n",
    "y = df[['Approved']]\n",
    "X_train, X_test, y_train, y_test = train_test_split(X, y, test_size = 0.2, random_state = 42)"
   ]
  },
  {
   "cell_type": "code",
   "execution_count": 10,
   "metadata": {},
   "outputs": [],
   "source": [
    "# create pandas profiling report\n",
    "train_df = X_train.join(y_train)\n",
    "profile = ProfileReport(df, title='Pandas Profiling Report')"
   ]
  },
  {
   "cell_type": "code",
   "execution_count": 11,
   "metadata": {},
   "outputs": [],
   "source": [
    "profile.to_file(output_file=\"../doc/report.html\")"
   ]
  },
  {
   "cell_type": "markdown",
   "metadata": {},
   "source": [
    "**Link to pandas profiling report:** [link](https://htmlpreview.github.io/?https://github.com/alistair-clark/DSCI_522_Group_412/blob/master/src/report.html)"
   ]
  },
  {
   "cell_type": "markdown",
   "metadata": {},
   "source": [
    "# Initial observations\n",
    "- There are no missing values, but there are many features with zeroes. We should inspect these to ensure they are not errors.\n",
    "- `Age` is currently a categorical feature, but should be numeric.\n",
    "- `Married` is highly correlated with `BankCustomer`. We may need to remove one of these features (or combine them) to avoid issues of multicollinearity in our models.\n",
    "- There are categorical features (e.g. `Citizen` and `BankCustomer`) that will need to be transformed through OHE or another method.\n",
    "- The numeric features have different scales and will need to be standardized or normalized to work with some of the models we are considering.\n",
    "- The dataset is well balanced, with `Approved` having 55.5% of data in one class and 45.5% in the other class."
   ]
  },
  {
   "cell_type": "code",
   "execution_count": null,
   "metadata": {},
   "outputs": [],
   "source": []
  }
 ],
 "metadata": {
  "kernelspec": {
   "display_name": "Python 3",
   "language": "python",
   "name": "python3"
  },
  "language_info": {
   "codemirror_mode": {
    "name": "ipython",
    "version": 3
   },
   "file_extension": ".py",
   "mimetype": "text/x-python",
   "name": "python",
   "nbconvert_exporter": "python",
   "pygments_lexer": "ipython3",
   "version": "3.6.9"
  }
 },
 "nbformat": 4,
 "nbformat_minor": 4
}
